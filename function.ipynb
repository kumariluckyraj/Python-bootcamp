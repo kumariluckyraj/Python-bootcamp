{
 "cells": [
  {
   "cell_type": "code",
   "execution_count": 14,
   "id": "25bb09de-c4b1-47fa-8df6-92deb8a7c96a",
   "metadata": {},
   "outputs": [],
   "source": [
    "#functions in python to use that func in diff parts of code\n",
    "def hello_world():\n",
    "   print( \"hello welcome\")\n",
    "    \n"
   ]
  },
  {
   "cell_type": "code",
   "execution_count": 15,
   "id": "3f1f6aea-8fc2-4c99-9a37-13cb9815c1e7",
   "metadata": {},
   "outputs": [
    {
     "name": "stdout",
     "output_type": "stream",
     "text": [
      "hello welcome\n"
     ]
    }
   ],
   "source": [
    "val = hello_world()"
   ]
  },
  {
   "cell_type": "code",
   "execution_count": 16,
   "id": "f404c9e1-26e1-4cb0-8f1a-a03b3558f11f",
   "metadata": {},
   "outputs": [
    {
     "name": "stdout",
     "output_type": "stream",
     "text": [
      "None\n"
     ]
    }
   ],
   "source": [
    "print(val) # it will not print coz the func hello_world is not returning anything"
   ]
  },
  {
   "cell_type": "code",
   "execution_count": 13,
   "id": "18cdb717-c1dd-4c92-9d2a-d84523c19ac9",
   "metadata": {},
   "outputs": [
    {
     "name": "stdout",
     "output_type": "stream",
     "text": [
      "hello welcome\n"
     ]
    }
   ],
   "source": [
    "def hello_world():\n",
    "    return \"hello welcome\"\n",
    "val = hello_world()\n",
    "print(val)"
   ]
  },
  {
   "cell_type": "code",
   "execution_count": 19,
   "id": "26e64596-66f3-47bd-9d19-c7ff140576cd",
   "metadata": {},
   "outputs": [
    {
     "name": "stdout",
     "output_type": "stream",
     "text": [
      "('lucky', 'raj')\n",
      "{'age': 19, 'dob': 2005}\n"
     ]
    }
   ],
   "source": [
    "#positional argument\n",
    "#keyword argument\n",
    "def hello(*args, **kwargs): #args is positional argument , kwargs is keyword argument\n",
    "    print(args)\n",
    "    print(kwargs)\n",
    "lst=['lucky','raj']# args(values are not assigned)\n",
    "dict_args={'age':19,'dob':2005}# kwargs (values are assigned)\n",
    "hello(*lst, **dict_args)    \n",
    "    "
   ]
  },
  {
   "cell_type": "code",
   "execution_count": null,
   "id": "7ee5174c-6c0c-432e-98d3-778a8575390b",
   "metadata": {},
   "outputs": [],
   "source": []
  },
  {
   "cell_type": "code",
   "execution_count": null,
   "id": "5a7ddc68-2cbd-4506-8721-fab8f107b4da",
   "metadata": {},
   "outputs": [],
   "source": []
  }
 ],
 "metadata": {
  "kernelspec": {
   "display_name": "Python [conda env:anaconda3]",
   "language": "python",
   "name": "conda-env-anaconda3-py"
  },
  "language_info": {
   "codemirror_mode": {
    "name": "ipython",
    "version": 3
   },
   "file_extension": ".py",
   "mimetype": "text/x-python",
   "name": "python",
   "nbconvert_exporter": "python",
   "pygments_lexer": "ipython3",
   "version": "3.12.7"
  }
 },
 "nbformat": 4,
 "nbformat_minor": 5
}
